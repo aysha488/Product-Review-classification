{
 "cells": [
  {
   "cell_type": "markdown",
   "metadata": {},
   "source": [
    "# Reviews classification\n",
    "In this kernel, i make prediction wether customers is willing to make product recommendation based on their review. i used the tablet data from amazon product review dataset.\n",
    "Using NLP techniques to normalize text, Random Forest alogrithm is outperform other machine learning classification Techniques and reach about 95% prediction accuracy\n"
   ]
  },
  {
   "cell_type": "code",
   "execution_count": 1,
   "metadata": {},
   "outputs": [],
   "source": [
    "import pandas as pd\n",
    "import numpy as np\n",
    "import re\n",
    "import string\n",
    "from nltk.stem import WordNetLemmatizer\n",
    "from gensim import corpora, models\n",
    "import nltk\n",
    "from nltk import sent_tokenize, word_tokenize, pos_tag\n",
    "from sklearn.feature_extraction.text import CountVectorizer, TfidfVectorizer\n",
    "from sklearn.preprocessing import LabelBinarizer\n",
    "from sklearn.model_selection import train_test_split\n",
    "from sklearn import model_selection\n",
    "from sklearn.metrics import confusion_matrix\n",
    "from sklearn.metrics import classification_report\n",
    "from sklearn.metrics import accuracy_score\n",
    "from sklearn.ensemble import RandomForestClassifier\n",
    "from sklearn.metrics import precision_score\n",
    "from sklearn.metrics import recall_score\n",
    "from sklearn.metrics import f1_score\n",
    "from sklearn.cluster import KMeans\n",
    "\n",
    "from sklearn.metrics import mean_squared_error\n",
    "from sklearn.pipeline import make_pipeline\n",
    "from sklearn.model_selection import KFold, cross_val_score, train_test_split\n",
    "import matplotlib as mpl \n",
    "import matplotlib.cm as cm \n",
    "import matplotlib.pyplot as plt \n",
    "from textblob import TextBlob\n",
    "import seaborn as sns\n",
    "from wordcloud import WordCloud, ImageColorGenerator\n",
    "from PIL import Image\n",
    "from os import path, getcwd\n",
    "d = getcwd()\n",
    "import warnings\n",
    "warnings.filterwarnings('ignore')\n"
   ]
  },
  {
   "cell_type": "markdown",
   "metadata": {},
   "source": [
    "# Importing data"
   ]
  },
  {
   "cell_type": "code",
   "execution_count": 2,
   "metadata": {},
   "outputs": [
    {
     "name": "stdout",
     "output_type": "stream",
     "text": [
      "The data has 34660 Row and 21 columns\n"
     ]
    }
   ],
   "source": [
    "review=pd.read_csv(\"C://Users//my//Desktop//Review.csv\")\n",
    "print(\"The data has \"+str(len(review))+\" Row and \"+str(len(review.columns))+\" columns\")"
   ]
  },
  {
   "cell_type": "markdown",
   "metadata": {},
   "source": [
    "# Text Normalization"
   ]
  },
  {
   "cell_type": "code",
   "execution_count": 3,
   "metadata": {},
   "outputs": [],
   "source": [
    "CONTRACTION_MAP = {\n",
    "\"ain't\": \"is not\",\"aren't\": \"are not\",\"can't\": \"cannot\",\"can't've\": \"cannot have\",\"'cause\": \"because\",\"could've\": \"could have\",\"couldn't\": \"could not\",\n",
    "\"couldn't've\": \"could not have\",\"didn't\": \"did not\",\"doesn't\": \"does not\",\"don't\": \"do not\",\"hadn't\": \"had not\",\"hadn't've\": \"had not have\",\n",
    "\"hasn't\": \"has not\",\"haven't\": \"have not\",\"he'd\": \"he would\",\"he'd've\": \"he would have\",\"he'll\": \"he will\",\"he'll've\": \"he he will have\",\n",
    "\"he's\": \"he is\",\"how'd\": \"how did\",\"how'd'y\": \"how do you\",\"how'll\": \"how will\",\"how's\": \"how is\",\"I'd\": \"I would\",\"I'd've\": \"I would have\",\n",
    "\"I'll\": \"I will\",\"I'll've\": \"I will have\",\"I'm\": \"I am\",\"I've\": \"I have\",\"i'd\": \"i would\",\"i'd've\": \"i would have\",\"i'll\": \"i will\",\n",
    "\"i'll've\": \"i will have\",\"i'm\": \"i am\",\"i've\": \"i have\",\"isn't\": \"is not\",\"it'd\": \"it would\",\"it'd've\": \"it would have\",\"it'll\": \"it will\",\n",
    "\"it'll've\": \"it will have\",\"it's\": \"it is\",\"let's\": \"let us\",\"ma'am\": \"madam\",\"mayn't\": \"may not\",\"might've\": \"might have\",\"mightn't\": \"might not\",\n",
    "\"mightn't've\": \"might not have\",\"must've\": \"must have\",\"mustn't\": \"must not\",\"mustn't've\": \"must not have\",\"needn't\": \"need not\",\n",
    "\"needn't've\": \"need not have\",\"o'clock\": \"of the clock\",\"oughtn't\": \"ought not\",\"oughtn't've\": \"ought not have\",\"shan't\": \"shall not\",\n",
    "\"sha'n't\": \"shall not\",\"shan't've\": \"shall not have\",\"she'd\": \"she would\",\"she'd've\": \"she would have\",\"she'll\": \"she will\",\n",
    "\"she'll've\": \"she will have\",\"she's\": \"she is\",\"should've\": \"should have\",\"shouldn't\": \"should not\",\"shouldn't've\": \"should not have\",\n",
    "\"so've\": \"so have\",\"so's\": \"so as\",\"that'd\": \"that would\",\"that'd've\": \"that would have\",\"that's\": \"that is\",\"there'd\": \"there would\",\n",
    "\"there'd've\": \"there would have\",\"there's\": \"there is\",\"they'd\": \"they would\",\"they'd've\": \"they would have\",\"they'll\": \"they will\",\n",
    "\"they'll've\": \"they will have\",\"they're\": \"they are\",\"they've\": \"they have\",\"to've\": \"to have\",\"wasn't\": \"was not\",\"we'd\": \"we would\",\n",
    "\"we'd've\": \"we would have\",\"we'll\": \"we will\",\"we'll've\": \"we will have\",\"we're\": \"we are\",\"we've\": \"we have\",\"weren't\": \"were not\",\n",
    "\"what'll\": \"what will\",\"what'll've\": \"what will have\",\"what're\": \"what are\",\"what's\": \"what is\",\"what've\": \"what have\",\"when's\": \"when is\",\n",
    "\"when've\": \"when have\",\"where'd\": \"where did\",\"where's\": \"where is\",\"where've\": \"where have\",\"who'll\": \"who will\",\"who'll've\": \"who will have\",\n",
    "\"who's\": \"who is\",\"who've\": \"who have\",\"why's\": \"why is\",\"why've\": \"why have\",\"will've\": \"will have\",\"won't\": \"will not\",\"won't've\": \"will not have\",\n",
    "\"would've\": \"would have\",\"wouldn't\": \"would not\",\"wouldn't've\": \"would not have\",\"y'all\": \"you all\",\"y'all'd\": \"you all would\",\n",
    "\"y'all'd've\": \"you all would have\",\"y'all're\": \"you all are\",\"y'all've\": \"you all have\",\"you'd\": \"you would\",\"you'd've\": \"you would have\",\n",
    "\"you'll\": \"you will\",\"you'll've\": \"you will have\",\"you're\": \"you are\",\"you've\": \"you have\"}"
   ]
  },
  {
   "cell_type": "code",
   "execution_count": 4,
   "metadata": {},
   "outputs": [],
   "source": [
    "# Normalization\n",
    "# github (\"https://github.com/dipanjanS/text-analytics-with-python/blob/master/Old-First-Edition/source_code/Ch04_Text_Classification/normalization.py\")\n",
    "stopword = nltk.corpus.stopwords.words('english')\n",
    "unwanted_num = {\"nor\", \"no\",\"not\"} \n",
    "\n",
    "stopword_list = [ele for ele in stopword if ele not in unwanted_num] \n",
    "\n",
    "wnl = WordNetLemmatizer()\n",
    "\n",
    "def tokenize_text(text):\n",
    "    tokens = nltk.word_tokenize(text) \n",
    "    tokens = [token.strip() for token in tokens]\n",
    "    return tokens\n",
    "\n",
    "def expand_contractions(text, contraction_mapping):\n",
    "    \n",
    "    contractions_pattern = re.compile('({})'.format('|'.join(contraction_mapping.keys())), \n",
    "                                      flags=re.IGNORECASE|re.DOTALL)\n",
    "    def expand_match(contraction):\n",
    "        match = contraction.group(0)\n",
    "        first_char = match[0]\n",
    "        expanded_contraction = contraction_mapping.get(match)\\\n",
    "                                if contraction_mapping.get(match)\\\n",
    "                                else contraction_mapping.get(match.lower())                       \n",
    "        expanded_contraction = first_char+expanded_contraction[1:]\n",
    "        return expanded_contraction\n",
    "        \n",
    "    expanded_text = contractions_pattern.sub(expand_match, text)\n",
    "    expanded_text = re.sub(\"'\", \" \", expanded_text)\n",
    "    return expanded_text\n",
    "\n",
    "from nltk.corpus import wordnet as wn\n",
    "def pos_tag_text(text):\n",
    "    \n",
    "    def penn_to_wn_tags(pos_tag):\n",
    "        if pos_tag.startswith('J'):\n",
    "            return wn.ADJ\n",
    "        elif pos_tag.startswith('V'):\n",
    "            return wn.VERB\n",
    "        elif pos_tag.startswith('N'):\n",
    "            return wn.NOUN\n",
    "        elif pos_tag.startswith('R'):\n",
    "            return wn.ADV\n",
    "        else:\n",
    "            return None\n",
    "    \n",
    "    \n",
    "    tagged_tokens = tokenize_text(text)\n",
    "    tagged_text = pos_tag(tagged_tokens)\n",
    "    \n",
    "    tagged_lower_text = [(word.lower(), penn_to_wn_tags(pos_tag))\n",
    "                         for word, pos_tag in tagged_text]\n",
    "    return tagged_lower_text\n",
    "    \n",
    "# lemmatize text based on POS tags    \n",
    "def lemmatize_text(text):\n",
    "    \n",
    "    pos_tagged_text = pos_tag_text(text)\n",
    "    lemmatized_tokens = [wnl.lemmatize(word, pos_tag) if pos_tag\n",
    "                         else word                     \n",
    "                         for word, pos_tag in pos_tagged_text]\n",
    "    lemmatized_text = ' '.join(lemmatized_tokens)\n",
    "    return lemmatized_text\n",
    " \n",
    "\n",
    "def remove_special_characters(text):\n",
    "    tokens = tokenize_text(text)\n",
    "    pattern = re.compile('[{}]'.format(re.escape(string.punctuation)))\n",
    "    filtered_tokens = filter(None, [pattern.sub('', token) for token in tokens])\n",
    "    filtered_text = ' '.join(filtered_tokens)\n",
    "    return filtered_text\n",
    "    \n",
    "    \n",
    "def remove_stopwords(text):\n",
    "    tokens = tokenize_text(text)\n",
    "    filtered_tokens = [token for token in tokens if token not in stopword_list]\n",
    "    filtered_text = ' '.join(filtered_tokens)    \n",
    "    return filtered_text\n",
    "\n",
    "#Delete the words with length less than 2\n",
    "def clean_length(text):\n",
    "    tokens = tokenize_text(text)\n",
    "    clean_tokens=[token for token in tokens if len(token)>2]\n",
    "    clean_text=' '.join(clean_tokens)\n",
    "    return clean_text\n",
    "    \n",
    "\n",
    "import re\n",
    "def remove_num(str):\n",
    "    string_no_numbers = re.sub(\"\\d+\", \" \", str)\n",
    "    return string_no_numbers\n",
    "\n",
    "def normalize_corpus(corpus, tokenize=False):\n",
    "    \n",
    "    normalized_corpus = []    \n",
    "    for text in corpus:\n",
    "        text = expand_contractions(text, CONTRACTION_MAP)\n",
    "        text = clean_length(text)\n",
    "        text = remove_num(text)\n",
    "        text = remove_special_characters(text)\n",
    "        text = remove_stopwords(text)\n",
    "        text = lemmatize_text(text)\n",
    "\n",
    "        normalized_corpus.append(text)\n",
    "        if tokenize:\n",
    "            text = tokenize_text(text)\n",
    "            normalized_corpus.append(text)\n",
    "            \n",
    "    return normalized_corpus"
   ]
  },
  {
   "cell_type": "markdown",
   "metadata": {},
   "source": [
    "# data preparation"
   ]
  },
  {
   "cell_type": "code",
   "execution_count": 5,
   "metadata": {},
   "outputs": [],
   "source": [
    "# Get our data\n",
    "final_data=review[[\"reviews.text\",\"reviews.doRecommend\"]]\n",
    "\n",
    "# Droping missing values\n",
    "final_data.dropna(axis=0,inplace=True)\n",
    "\n",
    "# convert to appropiate type\n",
    "final_data[\"reviews.text\"]=final_data[\"reviews.text\"].astype(str)\n",
    "final_data[\"reviews.doRecommend\"]=final_data[\"reviews.doRecommend\"].astype(\"int64\")\n",
    "\n",
    "# data normalization\n",
    "final_data[\"norm_text\"]=normalize_corpus(final_data[\"reviews.text\"])"
   ]
  },
  {
   "cell_type": "markdown",
   "metadata": {},
   "source": [
    "# Feature Engineering"
   ]
  },
  {
   "cell_type": "code",
   "execution_count": 6,
   "metadata": {},
   "outputs": [],
   "source": [
    "final_data[\"no_Words\"]= final_data[\"reviews.text\"].str.split().str.len() # Finding number of words\n",
    "final_data[\"no_char\"]=final_data[\"reviews.text\"].apply(lambda x: len(x)) # finding number of characters\n",
    "\n",
    "final_data[\"textblob_polarity\"]=[TextBlob(review).sentiment.polarity for review in final_data[\"norm_text\"]] # finding sentimet polarity\n",
    "final_data[\"textblob_subjectively\"]=[TextBlob(review).sentiment.subjectivity for review in final_data[\"norm_text\"]] #finding sentiment subjectivity\n",
    "\n",
    "# get nouns for each review\n",
    "def get_noun(text):\n",
    "    blob = TextBlob(text)\n",
    "    return [ word for (word,tag) in blob.tags if tag[0] == \"N\"]\n",
    "final_data[\"noun\"]=final_data[\"norm_text\"].apply(get_noun)\n",
    "final_data['nouns'] = final_data['noun'].apply(lambda x: ','.join(map(str, x)))\n",
    "\n",
    "#get adjectives for each review\n",
    "def get_adj(text):\n",
    "    blob = TextBlob(text)\n",
    "    return [ word for (word,tag) in blob.tags if tag[0] == \"J\"]\n",
    "final_data[\"adj\"]=final_data[\"norm_text\"].apply(get_adj)\n",
    "final_data['Adj'] = final_data['adj'].apply(lambda x: ','.join(map(str, x)))\n"
   ]
  },
  {
   "cell_type": "code",
   "execution_count": 7,
   "metadata": {},
   "outputs": [],
   "source": [
    "#get all adjective in each review\n",
    "def get_adj(text):\n",
    "    blob = TextBlob(text)\n",
    "    return [ word for (word,tag) in blob.tags if tag[0] == \"J\"]\n",
    "final_data[\"adj\"]=final_data[\"norm_text\"].apply(get_adj)\n",
    "final_data['Adj'] = final_data['adj'].apply(lambda x: ','.join(map(str, x)))"
   ]
  },
  {
   "cell_type": "code",
   "execution_count": 8,
   "metadata": {},
   "outputs": [
    {
     "data": {
      "text/html": [
       "<div>\n",
       "<style scoped>\n",
       "    .dataframe tbody tr th:only-of-type {\n",
       "        vertical-align: middle;\n",
       "    }\n",
       "\n",
       "    .dataframe tbody tr th {\n",
       "        vertical-align: top;\n",
       "    }\n",
       "\n",
       "    .dataframe thead th {\n",
       "        text-align: right;\n",
       "    }\n",
       "</style>\n",
       "<table border=\"1\" class=\"dataframe\">\n",
       "  <thead>\n",
       "    <tr style=\"text-align: right;\">\n",
       "      <th></th>\n",
       "      <th>reviews.text</th>\n",
       "      <th>reviews.doRecommend</th>\n",
       "      <th>norm_text</th>\n",
       "      <th>no_Words</th>\n",
       "      <th>no_char</th>\n",
       "      <th>textblob_polarity</th>\n",
       "      <th>textblob_subjectively</th>\n",
       "      <th>noun</th>\n",
       "      <th>nouns</th>\n",
       "      <th>adj</th>\n",
       "      <th>Adj</th>\n",
       "    </tr>\n",
       "  </thead>\n",
       "  <tbody>\n",
       "    <tr>\n",
       "      <td>0</td>\n",
       "      <td>This product so far has not disappointed. My c...</td>\n",
       "      <td>1</td>\n",
       "      <td>this product far not disappointed child love u...</td>\n",
       "      <td>27</td>\n",
       "      <td>143</td>\n",
       "      <td>0.325000</td>\n",
       "      <td>0.783333</td>\n",
       "      <td>[product, child, love, use, ability, monitor, ...</td>\n",
       "      <td>product,child,love,use,ability,monitor,control...</td>\n",
       "      <td>[disappointed]</td>\n",
       "      <td>disappointed</td>\n",
       "    </tr>\n",
       "    <tr>\n",
       "      <td>1</td>\n",
       "      <td>great for beginner or experienced person. Boug...</td>\n",
       "      <td>1</td>\n",
       "      <td>great beginner experience person bought gift love</td>\n",
       "      <td>14</td>\n",
       "      <td>75</td>\n",
       "      <td>0.650000</td>\n",
       "      <td>0.675000</td>\n",
       "      <td>[beginner, experience, person, gift, love]</td>\n",
       "      <td>beginner,experience,person,gift,love</td>\n",
       "      <td>[great]</td>\n",
       "      <td>great</td>\n",
       "    </tr>\n",
       "    <tr>\n",
       "      <td>2</td>\n",
       "      <td>Inexpensive tablet for him to use and learn on...</td>\n",
       "      <td>1</td>\n",
       "      <td>inexpensive tablet use learn step nabi thrill ...</td>\n",
       "      <td>26</td>\n",
       "      <td>131</td>\n",
       "      <td>0.000000</td>\n",
       "      <td>0.000000</td>\n",
       "      <td>[tablet, use, step, thrill, skype]</td>\n",
       "      <td>tablet,use,step,thrill,skype</td>\n",
       "      <td>[inexpensive, learn, learn]</td>\n",
       "      <td>inexpensive,learn,learn</td>\n",
       "    </tr>\n",
       "    <tr>\n",
       "      <td>3</td>\n",
       "      <td>I've had my Fire HD 8 two weeks now and I love...</td>\n",
       "      <td>1</td>\n",
       "      <td>fire two week love this tablet great valuewe p...</td>\n",
       "      <td>117</td>\n",
       "      <td>593</td>\n",
       "      <td>0.385556</td>\n",
       "      <td>0.700000</td>\n",
       "      <td>[fire, week, tablet, member, tablet, shine, lo...</td>\n",
       "      <td>fire,week,tablet,member,tablet,shine,love,acce...</td>\n",
       "      <td>[great, valuewe, prime, able, prime, nice, nic...</td>\n",
       "      <td>great,valuewe,prime,able,prime,nice,nice,brigh...</td>\n",
       "    </tr>\n",
       "    <tr>\n",
       "      <td>4</td>\n",
       "      <td>I bought this for my grand daughter when she c...</td>\n",
       "      <td>1</td>\n",
       "      <td>buy grand daughter come visit set user enter a...</td>\n",
       "      <td>117</td>\n",
       "      <td>613</td>\n",
       "      <td>0.351562</td>\n",
       "      <td>0.533879</td>\n",
       "      <td>[daughter, visit, age, name, access, sit, cont...</td>\n",
       "      <td>daughter,visit,age,name,access,sit,content,age...</td>\n",
       "      <td>[grand, enter, sure, appropriate, simple, inst...</td>\n",
       "      <td>grand,enter,sure,appropriate,simple,installed,...</td>\n",
       "    </tr>\n",
       "  </tbody>\n",
       "</table>\n",
       "</div>"
      ],
      "text/plain": [
       "                                        reviews.text  reviews.doRecommend  \\\n",
       "0  This product so far has not disappointed. My c...                    1   \n",
       "1  great for beginner or experienced person. Boug...                    1   \n",
       "2  Inexpensive tablet for him to use and learn on...                    1   \n",
       "3  I've had my Fire HD 8 two weeks now and I love...                    1   \n",
       "4  I bought this for my grand daughter when she c...                    1   \n",
       "\n",
       "                                           norm_text  no_Words  no_char  \\\n",
       "0  this product far not disappointed child love u...        27      143   \n",
       "1  great beginner experience person bought gift love        14       75   \n",
       "2  inexpensive tablet use learn step nabi thrill ...        26      131   \n",
       "3  fire two week love this tablet great valuewe p...       117      593   \n",
       "4  buy grand daughter come visit set user enter a...       117      613   \n",
       "\n",
       "   textblob_polarity  textblob_subjectively  \\\n",
       "0           0.325000               0.783333   \n",
       "1           0.650000               0.675000   \n",
       "2           0.000000               0.000000   \n",
       "3           0.385556               0.700000   \n",
       "4           0.351562               0.533879   \n",
       "\n",
       "                                                noun  \\\n",
       "0  [product, child, love, use, ability, monitor, ...   \n",
       "1         [beginner, experience, person, gift, love]   \n",
       "2                 [tablet, use, step, thrill, skype]   \n",
       "3  [fire, week, tablet, member, tablet, shine, lo...   \n",
       "4  [daughter, visit, age, name, access, sit, cont...   \n",
       "\n",
       "                                               nouns  \\\n",
       "0  product,child,love,use,ability,monitor,control...   \n",
       "1               beginner,experience,person,gift,love   \n",
       "2                       tablet,use,step,thrill,skype   \n",
       "3  fire,week,tablet,member,tablet,shine,love,acce...   \n",
       "4  daughter,visit,age,name,access,sit,content,age...   \n",
       "\n",
       "                                                 adj  \\\n",
       "0                                     [disappointed]   \n",
       "1                                            [great]   \n",
       "2                        [inexpensive, learn, learn]   \n",
       "3  [great, valuewe, prime, able, prime, nice, nic...   \n",
       "4  [grand, enter, sure, appropriate, simple, inst...   \n",
       "\n",
       "                                                 Adj  \n",
       "0                                       disappointed  \n",
       "1                                              great  \n",
       "2                            inexpensive,learn,learn  \n",
       "3  great,valuewe,prime,able,prime,nice,nice,brigh...  \n",
       "4  grand,enter,sure,appropriate,simple,installed,...  "
      ]
     },
     "execution_count": 8,
     "metadata": {},
     "output_type": "execute_result"
    }
   ],
   "source": [
    "final_data.head()"
   ]
  },
  {
   "cell_type": "markdown",
   "metadata": {},
   "source": [
    "# Data Visualization"
   ]
  },
  {
   "cell_type": "code",
   "execution_count": 9,
   "metadata": {},
   "outputs": [
    {
     "data": {
      "image/png": "[encoded data removed]",
      "text/plain": [
       "<Figure size 432x288 with 1 Axes>"
      ]
     },
     "metadata": {
      "needs_background": "light"
     },
     "output_type": "display_data"
    }
   ],
   "source": [
    "ax=sns.countplot(x=\"reviews.doRecommend\",data=final_data)\n",
    "plt.title('Recommendation status distribution')\n",
    "plt.xlabel(\"Recommendation status\")\n",
    "plt.ylabel('counts')\n",
    "plt.show()\n"
   ]
  },
  {
   "cell_type": "markdown",
   "metadata": {},
   "source": [
    "The bar figures shows high majority of customer recommended the product"
   ]
  },
  {
   "cell_type": "code",
   "execution_count": 10,
   "metadata": {},
   "outputs": [
    {
     "data": {
      "image/png": "[encoded data removed]",
      "text/plain": [
       "<Figure size 432x288 with 1 Axes>"
      ]
     },
     "metadata": {
      "needs_background": "light"
     },
     "output_type": "display_data"
    },
    {
     "data": {
      "image/png": "[encoded data removed]",
      "text/plain": [
       "<Figure size 432x288 with 1 Axes>"
      ]
     },
     "metadata": {
      "needs_background": "light"
     },
     "output_type": "display_data"
    }
   ],
   "source": [
    "from wordcloud import WordCloud\n",
    "from PIL import Image\n",
    "\n",
    "recommended=final_data[final_data[\"reviews.doRecommend\"]==1]\n",
    "not_recommended=final_data[final_data[\"reviews.doRecommend\"]==0]\n",
    "\n",
    "recommendation = \" \".join(review for review in recommended[\"Adj\"])\n",
    "no_recommendation=  \" \".join(review for review in not_recommended[\"Adj\"])\n",
    "\n",
    "thump_up = np.array(Image.open('C://Users//my//Desktop//6.jpg'))\n",
    "ax1 = WordCloud( background_color=\"white\",mask=thump_up,max_font_size=256,width=thump_up.shape[1],height=thump_up.shape[0]).generate(recommendation)\n",
    "plt.imshow(ax1, interpolation='bilinear')\n",
    "plt.axis(\"off\")\n",
    "plt.show()\n",
    "\n",
    "thump_down = np.array(Image.open('C://Users//my//Desktop//7.jpg'))\n",
    "\n",
    "ax2 = WordCloud( background_color=\"white\",mask=thump_down,max_font_size=256,width=thump_up.shape[1],height=thump_up.shape[0]).generate(no_recommendation)\n",
    "plt.imshow(ax2, interpolation='bilinear')\n",
    "plt.axis(\"off\")\n",
    "plt.show()\n",
    "\n",
    "\n",
    "\n"
   ]
  },
  {
   "cell_type": "markdown",
   "metadata": {},
   "source": [
    "The above wordclouds figures shows how customers describe the products, it shows that even the customers not recommened the product still give good review. some bad reviews may arise describe the product as slow and old\n"
   ]
  },
  {
   "cell_type": "code",
   "execution_count": 11,
   "metadata": {},
   "outputs": [
    {
     "data": {
      "text/plain": [
       "<Figure size 1440x576 with 0 Axes>"
      ]
     },
     "metadata": {},
     "output_type": "display_data"
    },
    {
     "data": {
      "image/png": "[encoded data removed]",
      "text/plain": [
       "<Figure size 360x360 with 1 Axes>"
      ]
     },
     "metadata": {
      "needs_background": "light"
     },
     "output_type": "display_data"
    },
    {
     "data": {
      "image/png": "[encoded data removed]",
      "text/plain": [
       "<Figure size 360x360 with 1 Axes>"
      ]
     },
     "metadata": {
      "needs_background": "light"
     },
     "output_type": "display_data"
    }
   ],
   "source": [
    "plt.figure(figsize=(20,8))\n",
    "sns.catplot(y=\"no_Words\", x=\"reviews.doRecommend\", data=final_data[final_data.no_Words<=200],kind='boxen')\n",
    "plt.title('Words distribution according to recommendation status')\n",
    "plt.xlabel(\"Recommendation\")\n",
    "plt.ylabel('No. of words')\n",
    "plt.show()\n",
    "\n",
    "sns.catplot(y=\"no_char\", x=\"reviews.doRecommend\", data=final_data[final_data.no_char<=800],kind='boxen')\n",
    "plt.title('Charcheters distribution according to recommendation status')\n",
    "plt.xlabel(\"Recommendation\")\n",
    "plt.ylabel('No. of characters')\n",
    "plt.show()\n"
   ]
  },
  {
   "cell_type": "markdown",
   "metadata": {},
   "source": [
    "you can notice that, in general customers writes longer review if they don't recommended the product."
   ]
  },
  {
   "cell_type": "markdown",
   "metadata": {},
   "source": [
    "# Topic modeling"
   ]
  },
  {
   "cell_type": "code",
   "execution_count": 78,
   "metadata": {},
   "outputs": [
    {
     "name": "stdout",
     "output_type": "stream",
     "text": [
      "Topic 0: wife love | love alexa | like product | love thing | enjoy product | far good | gift family | faster stick | item work | kindle good | bought husband | love recommend | customer service | gift kid | fun family | amazon work | best buy | love perfect | voice recognition | paper white\n",
      "Topic 1: play music | amazon echo | love echo | ask question | ask alexa | answer question | echo dot | listen music | smart home | home automation | turn light | use echo | echo great | bluetooth speaker | control light | shop list | google home | alexa play | use alexa | voice command\n",
      "Topic 2: best thing | best stream | love buy | far best | good stick | child love | love best | cut cable | learn new | stream box | new thing | buy product | stream device | product love | work flawlessly | playstation vue | grandkids love | cable cord | love stick | android box\n",
      "Topic 3: year old | good product | great product | use everyday | parental control | old love | easy use | user friendly | christmas gift | son love | work great | bought wife | tablet year | granddaughter love | easy operate | product buy | worth price | product price | paper white | love device\n",
      "Topic 4: easy use | work great | great product | easy set | amazon prime | highly recommend | great tablet | great price | play game | love amazon | battery life | easy setup | read book | kid love | best buy | watch movie | daughter love | really like | love tablet | easy read\n"
     ]
    }
   ],
   "source": [
    "# Topic Modeling\n",
    "from sklearn.decomposition import LatentDirichletAllocation\n",
    "\n",
    "# Initialize CountVectorizer\n",
    "cvectorizer = TfidfVectorizer(stop_words='english', ngram_range=(2,2))\n",
    "\n",
    "# Fit it to our dataset\n",
    "cvz = cvectorizer.fit_transform(final_data[\"norm_text\"])\n",
    "\n",
    "# Initialize LDA Model with 10 Topics\n",
    "lda_model = LatentDirichletAllocation(n_components=5, max_iter=5, learning_method='online', learning_offset=50.,random_state=0)\n",
    "\n",
    "# Fit it to our CountVectorizer Transformation\n",
    "X_topics = lda_model.fit_transform(cvz)\n",
    "\n",
    "# Define variables\n",
    "n_top_words = 20\n",
    "topic_summaries = []\n",
    "\n",
    "# Get the topic words\n",
    "topic_word = lda_model.components_\n",
    "# Get the vocabulary from the text features\n",
    "vocab = cvectorizer.get_feature_names()\n",
    "\n",
    "# Display the Topic Models\n",
    "for i, topic_dist in enumerate(topic_word):\n",
    "    topic_words = np.array(vocab)[np.argsort(topic_dist)][:-(n_top_words+1):-1]\n",
    "    topic_summaries.append(' '.join(topic_words))\n",
    "    print('Topic {}: {}'.format(i, ' | '.join(topic_words)))\n"
   ]
  },
  {
   "cell_type": "markdown",
   "metadata": {},
   "source": [
    "apparently the customers are token about five main topics<br>\n",
    "1- ***easy to use*** <br>\n",
    "2- ***family gift*** <br>\n",
    "3- ***cost***: worth extra money, cheap <br>\n",
    "4- ***Good sound system*** <br>\n",
    "5- ***general description***: like great, good,excellent product"
   ]
  },
  {
   "cell_type": "markdown",
   "metadata": {},
   "source": [
    "# Modeling"
   ]
  },
  {
   "cell_type": "code",
   "execution_count": 13,
   "metadata": {},
   "outputs": [
    {
     "data": {
      "text/html": [
       "<div>\n",
       "<style scoped>\n",
       "    .dataframe tbody tr th:only-of-type {\n",
       "        vertical-align: middle;\n",
       "    }\n",
       "\n",
       "    .dataframe tbody tr th {\n",
       "        vertical-align: top;\n",
       "    }\n",
       "\n",
       "    .dataframe thead th {\n",
       "        text-align: right;\n",
       "    }\n",
       "</style>\n",
       "<table border=\"1\" class=\"dataframe\">\n",
       "  <thead>\n",
       "    <tr style=\"text-align: right;\">\n",
       "      <th></th>\n",
       "      <th>able download</th>\n",
       "      <th>able play</th>\n",
       "      <th>able read</th>\n",
       "      <th>able set</th>\n",
       "      <th>able use</th>\n",
       "      <th>able watch</th>\n",
       "      <th>absolutely love</th>\n",
       "      <th>access amazon</th>\n",
       "      <th>access internet</th>\n",
       "      <th>add apps</th>\n",
       "      <th>...</th>\n",
       "      <th>year old</th>\n",
       "      <th>young child</th>\n",
       "      <th>young kid</th>\n",
       "      <th>youtube video</th>\n",
       "      <th>yr old</th>\n",
       "      <th>reviews.doRecommend</th>\n",
       "      <th>no_Words</th>\n",
       "      <th>no_char</th>\n",
       "      <th>textblob_polarity</th>\n",
       "      <th>textblob_subjectively</th>\n",
       "    </tr>\n",
       "  </thead>\n",
       "  <tbody>\n",
       "    <tr>\n",
       "      <td>0</td>\n",
       "      <td>0.0</td>\n",
       "      <td>0.0</td>\n",
       "      <td>0.0</td>\n",
       "      <td>0.0</td>\n",
       "      <td>0.0</td>\n",
       "      <td>0.0</td>\n",
       "      <td>0.0</td>\n",
       "      <td>0.0</td>\n",
       "      <td>0.0</td>\n",
       "      <td>0.0</td>\n",
       "      <td>...</td>\n",
       "      <td>0.0</td>\n",
       "      <td>0.0</td>\n",
       "      <td>0.0</td>\n",
       "      <td>0.0</td>\n",
       "      <td>0.0</td>\n",
       "      <td>1</td>\n",
       "      <td>27</td>\n",
       "      <td>143</td>\n",
       "      <td>0.325000</td>\n",
       "      <td>0.783333</td>\n",
       "    </tr>\n",
       "    <tr>\n",
       "      <td>1</td>\n",
       "      <td>0.0</td>\n",
       "      <td>0.0</td>\n",
       "      <td>0.0</td>\n",
       "      <td>0.0</td>\n",
       "      <td>0.0</td>\n",
       "      <td>0.0</td>\n",
       "      <td>0.0</td>\n",
       "      <td>0.0</td>\n",
       "      <td>0.0</td>\n",
       "      <td>0.0</td>\n",
       "      <td>...</td>\n",
       "      <td>0.0</td>\n",
       "      <td>0.0</td>\n",
       "      <td>0.0</td>\n",
       "      <td>0.0</td>\n",
       "      <td>0.0</td>\n",
       "      <td>1</td>\n",
       "      <td>14</td>\n",
       "      <td>75</td>\n",
       "      <td>0.650000</td>\n",
       "      <td>0.675000</td>\n",
       "    </tr>\n",
       "    <tr>\n",
       "      <td>2</td>\n",
       "      <td>0.0</td>\n",
       "      <td>0.0</td>\n",
       "      <td>0.0</td>\n",
       "      <td>0.0</td>\n",
       "      <td>0.0</td>\n",
       "      <td>0.0</td>\n",
       "      <td>0.0</td>\n",
       "      <td>0.0</td>\n",
       "      <td>0.0</td>\n",
       "      <td>0.0</td>\n",
       "      <td>...</td>\n",
       "      <td>0.0</td>\n",
       "      <td>0.0</td>\n",
       "      <td>0.0</td>\n",
       "      <td>0.0</td>\n",
       "      <td>0.0</td>\n",
       "      <td>1</td>\n",
       "      <td>26</td>\n",
       "      <td>131</td>\n",
       "      <td>0.000000</td>\n",
       "      <td>0.000000</td>\n",
       "    </tr>\n",
       "    <tr>\n",
       "      <td>3</td>\n",
       "      <td>0.0</td>\n",
       "      <td>0.0</td>\n",
       "      <td>0.0</td>\n",
       "      <td>0.0</td>\n",
       "      <td>0.0</td>\n",
       "      <td>0.0</td>\n",
       "      <td>0.0</td>\n",
       "      <td>0.0</td>\n",
       "      <td>0.0</td>\n",
       "      <td>0.0</td>\n",
       "      <td>...</td>\n",
       "      <td>0.0</td>\n",
       "      <td>0.0</td>\n",
       "      <td>0.0</td>\n",
       "      <td>0.0</td>\n",
       "      <td>0.0</td>\n",
       "      <td>1</td>\n",
       "      <td>117</td>\n",
       "      <td>593</td>\n",
       "      <td>0.385556</td>\n",
       "      <td>0.700000</td>\n",
       "    </tr>\n",
       "    <tr>\n",
       "      <td>4</td>\n",
       "      <td>0.0</td>\n",
       "      <td>0.0</td>\n",
       "      <td>0.0</td>\n",
       "      <td>0.0</td>\n",
       "      <td>0.0</td>\n",
       "      <td>0.0</td>\n",
       "      <td>0.0</td>\n",
       "      <td>0.0</td>\n",
       "      <td>0.0</td>\n",
       "      <td>0.0</td>\n",
       "      <td>...</td>\n",
       "      <td>0.0</td>\n",
       "      <td>0.0</td>\n",
       "      <td>0.0</td>\n",
       "      <td>0.0</td>\n",
       "      <td>0.0</td>\n",
       "      <td>1</td>\n",
       "      <td>117</td>\n",
       "      <td>613</td>\n",
       "      <td>0.351562</td>\n",
       "      <td>0.533879</td>\n",
       "    </tr>\n",
       "  </tbody>\n",
       "</table>\n",
       "<p>5 rows × 1005 columns</p>\n",
       "</div>"
      ],
      "text/plain": [
       "   able download  able play  able read  able set  able use  able watch  \\\n",
       "0            0.0        0.0        0.0       0.0       0.0         0.0   \n",
       "1            0.0        0.0        0.0       0.0       0.0         0.0   \n",
       "2            0.0        0.0        0.0       0.0       0.0         0.0   \n",
       "3            0.0        0.0        0.0       0.0       0.0         0.0   \n",
       "4            0.0        0.0        0.0       0.0       0.0         0.0   \n",
       "\n",
       "   absolutely love  access amazon  access internet  add apps  ...  year old  \\\n",
       "0              0.0            0.0              0.0       0.0  ...       0.0   \n",
       "1              0.0            0.0              0.0       0.0  ...       0.0   \n",
       "2              0.0            0.0              0.0       0.0  ...       0.0   \n",
       "3              0.0            0.0              0.0       0.0  ...       0.0   \n",
       "4              0.0            0.0              0.0       0.0  ...       0.0   \n",
       "\n",
       "   young child  young kid  youtube video  yr old  reviews.doRecommend  \\\n",
       "0          0.0        0.0            0.0     0.0                    1   \n",
       "1          0.0        0.0            0.0     0.0                    1   \n",
       "2          0.0        0.0            0.0     0.0                    1   \n",
       "3          0.0        0.0            0.0     0.0                    1   \n",
       "4          0.0        0.0            0.0     0.0                    1   \n",
       "\n",
       "   no_Words  no_char  textblob_polarity  textblob_subjectively  \n",
       "0        27      143           0.325000               0.783333  \n",
       "1        14       75           0.650000               0.675000  \n",
       "2        26      131           0.000000               0.000000  \n",
       "3       117      593           0.385556               0.700000  \n",
       "4       117      613           0.351562               0.533879  \n",
       "\n",
       "[5 rows x 1005 columns]"
      ]
     },
     "execution_count": 13,
     "metadata": {},
     "output_type": "execute_result"
    }
   ],
   "source": [
    "# Preparing the data for model\n",
    "from scipy.sparse import csr_matrix, hstack\n",
    "import numpy as np\n",
    "from sklearn.model_selection import KFold, cross_val_score, train_test_split\n",
    "\n",
    "TV = TfidfVectorizer(stop_words='english',ngram_range=(2, 2),max_features=1000)\n",
    "x_text = TV.fit_transform(final_data['norm_text'])\n",
    "count_vect_df = pd.DataFrame(x_text.todense(), columns=TV.get_feature_names())\n",
    "\n",
    "X=pd.merge(count_vect_df, final_data, left_index=True, right_index=True)\n",
    "X_final=X.drop([\"reviews.text\",\"norm_text\",\"noun\",\"nouns\",\"adj\",\"Adj\"],axis=1)\n",
    "X_final.head()"
   ]
  },
  {
   "cell_type": "markdown",
   "metadata": {},
   "source": [
    "After data is ready we now move to next chapter(data modeling). One a side note:Since running all these models take much time i only give the code and final result to show the steps that taken to develop the final model "
   ]
  },
  {
   "cell_type": "markdown",
   "metadata": {},
   "source": [
    "# Model 1 ( Original data)"
   ]
  },
  {
   "cell_type": "code",
   "execution_count": 14,
   "metadata": {},
   "outputs": [],
   "source": [
    "\n",
    "#from sklearn.linear_model import LogisticRegression\n",
    "#from sklearn.tree import DecisionTreeClassifier\n",
    "#from sklearn.ensemble import RandomForestClassifier\n",
    "#from sklearn.neighbors import KNeighborsClassifier\n",
    "#from sklearn.discriminant_analysis import LinearDiscriminantAnalysis\n",
    "#from sklearn.naive_bayes import GaussianNB\n",
    "#from sklearn.svm import SVC\n",
    "\n",
    "#X_train, X_test, y_train, y_test = train_test_split(X_final.drop([\"reviews.doRecommend\"],axis=1), X_final[\"reviews.doRecommend\"], test_size=0.3) # 70% training and 30% test\n",
    "#models=[]\n",
    "#models.append((\"LR\",LogisticRegression()))\n",
    "#models.append((\"LDA\",LinearDiscriminantAnalysis()))\n",
    "#models.append((\"KNN\",KNeighborsClassifier()))\n",
    "#models.append((\"CART\",DecisionTreeClassifier()))\n",
    "#models.append((\"RF\",RandomForestClassifier()))\n",
    "#models.append((\"NB\",GaussianNB()))\n",
    "#models.append((\"SVM\",SVC()))\n",
    "\n",
    "#seed=7\n",
    "#scoring=\"accuracy\"\n",
    "#result=[]\n",
    "#names=[]\n",
    "\n",
    "#for name,model in models:\n",
    "    #kfold=model_selection.KFold(n_splits=5,random_state=seed)\n",
    "    #cv_result=model_selection.cross_val_score(model,X_train,y_train,cv=kfold, scoring=scoring)\n",
    "    #result.append(cv_result)\n",
    "    #names.append(name)\n",
    "    #msg=\"%s: %f (%f)\" % (name,cv_result.mean(),cv_result.std())\n",
    "    #print(msg)"
   ]
  },
  {
   "cell_type": "markdown",
   "metadata": {},
   "source": [
    "In this section we tried to pick up the most accurate algorthim that fits with the data, we used 5_fold validation and accuracy scoring to compare between different classification alogrithems and it seems like all models except GaussianNB are doing approximatley the same (accuracy 95.3-95.9%)"
   ]
  },
  {
   "cell_type": "markdown",
   "metadata": {},
   "source": [
    "# Model 2 (class decomposition)"
   ]
  },
  {
   "cell_type": "markdown",
   "metadata": {},
   "source": [
    "We used class decomposition techniques since our data suffer from high imbalanced classification. so solving this may lead to accuracy improvement."
   ]
  },
  {
   "cell_type": "code",
   "execution_count": 15,
   "metadata": {},
   "outputs": [],
   "source": [
    "def normalize(df,cols):\n",
    "    for col in cols:\n",
    "        df[col]=(df[col]-df[col].min())/(df[col].max()-df[col].min())\n",
    "    return df\n",
    "\n",
    "x_normalize=normalize(X_final,X_final.columns)\n",
    "\n",
    "# Elbow method to find number of clusters for data\n",
    "def elbow_clusters(df):\n",
    "    wcss = []\n",
    "    for i in range(1, 11):\n",
    "        kmeans = KMeans(n_clusters=i, init='k-means++', max_iter=300, n_init=10, random_state=0)\n",
    "        kmeans.fit(df)\n",
    "        wcss.append(kmeans.inertia_)\n",
    "    plt.plot(range(1, 11), wcss)\n",
    "    plt.title(\"Elbow method\")\n",
    "    plt.xlabel('Number of clusters')\n",
    "    plt.ylabel('WCSS')\n",
    "    plt.show()\n",
    "    \n",
    "\n",
    "# Generate clusters in dataframe based on Elbow method\n",
    "def clusters(df,n):\n",
    "    #get the clusters for positive cases\n",
    "    clusters_model=KMeans(n_clusters=n)\n",
    "    clusters_model.fit(df)\n",
    "    df[\"labels\"]=clusters_model.predict(df)\n",
    "    df[\"labels\"]=df[\"labels\"]+1\n",
    "    \n",
    "    return df\n",
    "\n",
    "# Elbow method to find number of clusters for data\n",
    "def elbow_clusters(df):\n",
    "    wcss = []\n",
    "    for i in range(1, 11):\n",
    "        kmeans = KMeans(n_clusters=i, init='k-means++', max_iter=300, n_init=10, random_state=0)\n",
    "        kmeans.fit(df)\n",
    "        wcss.append(kmeans.inertia_)\n",
    "    plt.plot(range(1, 11), wcss)\n",
    "    plt.title(\"Elbow method\")\n",
    "    plt.xlabel('Number of clusters')\n",
    "    plt.ylabel('WCSS')\n",
    "    plt.show()\n",
    "    \n",
    "\n",
    "# Generate clusters in dataframe based on Elbow method\n",
    "def clusters(df,n):\n",
    "    #get the clusters for positive cases\n",
    "    clusters_model=KMeans(n_clusters=n)\n",
    "    clusters_model.fit(df)\n",
    "    df[\"labels\"]=clusters_model.predict(df)\n",
    "    df[\"labels\"]=df[\"labels\"]+1\n",
    "    \n",
    "    return df\n",
    "\n",
    "X_pos=x_normalize[x_normalize[\"reviews.doRecommend\"]==1]\n",
    "X_neg=x_normalize[x_normalize[\"reviews.doRecommend\"]==0]"
   ]
  },
  {
   "cell_type": "code",
   "execution_count": 16,
   "metadata": {},
   "outputs": [
    {
     "data": {
      "image/png": "[encoded data removed]",
      "text/plain": [
       "<Figure size 432x288 with 1 Axes>"
      ]
     },
     "metadata": {
      "needs_background": "light"
     },
     "output_type": "display_data"
    }
   ],
   "source": [
    "elbow_clusters(X_pos)"
   ]
  },
  {
   "cell_type": "code",
   "execution_count": 17,
   "metadata": {},
   "outputs": [
    {
     "data": {
      "text/plain": [
       "2.0    18632\n",
       "1.0    13524\n",
       "0.0     1351\n",
       "Name: labels, dtype: int64"
      ]
     },
     "execution_count": 17,
     "metadata": {},
     "output_type": "execute_result"
    }
   ],
   "source": [
    "clusters(X_pos,2)\n",
    "X_C = pd.concat([X_pos,X_neg],axis=0)\n",
    "X_C[\"labels\"].fillna(0,inplace=True)\n",
    "X_C[\"labels\"].value_counts()"
   ]
  },
  {
   "cell_type": "markdown",
   "metadata": {},
   "source": [
    "Class decomposition only decrease the difference between the target variable levels."
   ]
  },
  {
   "cell_type": "code",
   "execution_count": 74,
   "metadata": {},
   "outputs": [],
   "source": [
    "#resultC=[]\n",
    "\n",
    "#for i in range(5):\n",
    "    #X_trainc, X_testc, y_trainc, y_testc = train_test_split(X_C.drop([\"reviews.doRecommend\",\"labels\"],axis=1), X_C[\"labels\"], test_size=0.3) \n",
    "    #clf=RandomForestClassifier(n_estimators=100)\n",
    "    #clf.fit(X_trainc,y_trainc)\n",
    "    #y_predc=clf.predict(X_testc)\n",
    "    #predicted= np.where((y_predc >=1),1,y_predc)\n",
    "    #y_testC=np.where((y_testc >=1) ,1,y_testc)\n",
    "    #resultC.append(accuracy_score(predicted,y_testC))\n",
    "\n",
    "\n",
    "#print(np.mean(resultC))\n",
    "#Note:There is no change of the accuracy for random forest with class decompositon(stay steady at 95.8%)"
   ]
  },
  {
   "cell_type": "markdown",
   "metadata": {},
   "source": [
    "The result shows no significant increase in accuracy after class decompositon "
   ]
  },
  {
   "cell_type": "markdown",
   "metadata": {},
   "source": [
    "# Model 3 (Class decomposition and SMOTE)"
   ]
  },
  {
   "cell_type": "markdown",
   "metadata": {},
   "source": [
    "The previous technique shows the imbalanced classification still exist, in this model we combined class decomposition with oversampling method called SMOTE to increase the representation of small category in the dataset and decrease the imbalanced between target variable categories"
   ]
  },
  {
   "cell_type": "code",
   "execution_count": 19,
   "metadata": {},
   "outputs": [],
   "source": [
    "\n",
    "#from imblearn.over_sampling import SMOTE\n",
    "#smote=SMOTE(\"minority\")\n",
    "#x_sm,y_sm = smote.fit_sample(X_C.drop([\"reviews.doRecommend\",\"labels\"],axis=1),X_C[\"labels\"])\n",
    "\n",
    "#resultc_smote=[]\n",
    "#for i in range(5):\n",
    "    #X_trainc, X_testc, y_trainc, y_testc = train_test_split(x_sm,y_sm, test_size=0.3) \n",
    "    #clf=RandomForestClassifier(n_estimators=100)\n",
    "    #clf.fit(X_trainc,y_trainc)\n",
    "    #y_predc=clf.predict(X_testc)\n",
    "    #predicted= np.where((y_predc >=1),1,y_predc)\n",
    "    #y_testC=np.where((y_testc >=1) ,1,y_testc)\n",
    "    #resultc_smote.append(accuracy_score(predicted,y_testC))\n",
    "\n",
    "#print(np.mean(resultc_smote))\n",
    "\n"
   ]
  },
  {
   "cell_type": "markdown",
   "metadata": {},
   "source": [
    "The accuracy for random forest classification with class decomposiiton and smote oversampling is 93.03% which less than 96% "
   ]
  },
  {
   "cell_type": "markdown",
   "metadata": {},
   "source": [
    "# Hyperparameter tuning"
   ]
  },
  {
   "cell_type": "code",
   "execution_count": 20,
   "metadata": {},
   "outputs": [],
   "source": [
    "#copyright:https://towardsdatascience.com/hyperparameter-tuning-the-random-forest-in-python-using-scikit-learn-28d2aa77dd74\n",
    "\n",
    "#from sklearn.model_selection import RandomizedSearchCV\n",
    "# -Number of trees in random forest\n",
    "#n_estimators = [int(x) for x in np.linspace(start = 200, stop = 2000, num = 10)]\n",
    "# -Number of features to consider at every split\n",
    "#max_features = ['auto', 'sqrt']\n",
    "# -Maximum number of levels in tree\n",
    "#max_depth = [int(x) for x in np.linspace(10, 110, num = 11)]\n",
    "#max_depth.append(None)\n",
    "# -Minimum number of samples required to split a node\n",
    "#min_samples_split = [2, 5, 10]\n",
    "# -Minimum number of samples required at each leaf node\n",
    "#min_samples_leaf = [1, 2, 4]\n",
    "# -Method of selecting samples for training each tree\n",
    "#bootstrap = [True, False]\n",
    "# -Create the random grid\n",
    "#random_grid = {'n_estimators': n_estimators,\n",
    "               #'max_features': max_features,\n",
    "               #'max_depth': max_depth,\n",
    "               #'min_samples_split': min_samples_split,\n",
    "               #'min_samples_leaf': min_samples_leaf,\n",
    "               #'bootstrap': bootstrap}\n",
    "#print(random_grid)\n",
    "\n",
    "\n",
    "# -Use the random grid to search for best hyperparameters\n",
    "# -First create the base model to tune\n",
    "#rf = RandomForestClassifier()\n",
    "# Random search of parameters, using 3 fold cross validation, \n",
    "# -search across 100 different combinations, and use all available cores\n",
    "#X_train, X_test, y_train, y_test = train_test_split(X_final.drop([\"reviews.doRecommend\"],axis=1), X_final[\"reviews.doRecommend\"], test_size=0.3,random_state = 42) # 70% training and 30% test\n",
    "#rf_random = RandomizedSearchCV(estimator = rf, param_distributions = random_grid, n_iter = 100, cv = 3, verbose=2, n_jobs = -1)\n",
    "# -Fit the random search model\n",
    "#rf_random.fit(X_train, y_train)\n",
    "\n",
    "\n",
    "#X_train, X_test, y_train, y_test = train_test_split(X_over,y_over, test_size=0.3) # 70% training and 30% test\n",
    "#clf=RandomForestClassifier(n_estimators=400,min_samples_split=5,min_samples_leaf=1,max_features=\"sqrt\",max_depth=30,bootstrap=True)\n",
    "#clf.fit(X_train,y_train)\n",
    "#y_pred=clf.predict(X_test)\n"
   ]
  },
  {
   "cell_type": "markdown",
   "metadata": {},
   "source": [
    "parameter tunning for random forest classifier is n_estimators=400,min_samples_split=5,min_samples_leaf=1,max_features=\"sqrt\",max_depth=30,bootstrap=True\n",
    "Note:The parameter tunning doesn't increase the accuracy and predicted 1 for all data"
   ]
  },
  {
   "cell_type": "markdown",
   "metadata": {},
   "source": [
    "# Final model"
   ]
  },
  {
   "cell_type": "code",
   "execution_count": 64,
   "metadata": {},
   "outputs": [],
   "source": [
    "X_train, X_test, y_train, y_test = train_test_split(X_final.drop([\"reviews.doRecommend\"],axis=1), X_final[\"reviews.doRecommend\"], test_size=0.3) # 70% training and 30% test\n",
    "RFC=RandomForestClassifier(n_estimators=400)\n",
    "RFC.fit(X_train,y_train)\n",
    "y_pred=RFC.predict(X_test)\n",
    "print(\"Model Accuracy is\"+str(confusion_matrix(y_pred,y_test)))\n",
    "print(\"Model Precision is\"+str(precision_score(y_pred,y_test)))\n",
    "print(\"Model Recall is\"+str(recall_score(y_pred,y_test)))\n",
    "print(\"Model f1 is\"+str(f1_score(y_pred,y_test)))\n"
   ]
  },
  {
   "cell_type": "code",
   "execution_count": 65,
   "metadata": {},
   "outputs": [
    {
     "data": {
      "text/plain": [
       "array([[   3,   14],\n",
       "       [ 385, 9651]], dtype=int64)"
      ]
     },
     "execution_count": 65,
     "metadata": {},
     "output_type": "execute_result"
    }
   ],
   "source": [
    "confusion_matrix(y_pred,y_test)"
   ]
  },
  {
   "cell_type": "markdown",
   "metadata": {},
   "source": [
    "# Feature Importance"
   ]
  },
  {
   "cell_type": "code",
   "execution_count": 77,
   "metadata": {},
   "outputs": [
    {
     "data": {
      "text/plain": [
       "<matplotlib.axes._subplots.AxesSubplot at 0x16b93170a88>"
      ]
     },
     "execution_count": 77,
     "metadata": {},
     "output_type": "execute_result"
    },
    {
     "data": {
      "image/png": "[encoded data removed]",
      "text/plain": [
       "<Figure size 432x288 with 1 Axes>"
      ]
     },
     "metadata": {
      "needs_background": "light"
     },
     "output_type": "display_data"
    }
   ],
   "source": [
    "#fitting the model in the original dataset\n",
    "RFC=RandomForestClassifier(n_estimators=400)\n",
    "RFC.fit(X_final.drop([\"reviews.doRecommend\"],axis=1), X_final[\"reviews.doRecommend\"])\n",
    "\n",
    "feat_importances = pd.Series(RFC.feature_importances_, index=X_final.drop([\"reviews.doRecommend\"],axis=1).columns)\n",
    "feat_importances.nlargest(20).plot(kind='barh')\n"
   ]
  },
  {
   "cell_type": "code",
   "execution_count": null,
   "metadata": {},
   "outputs": [],
   "source": []
  }
 ],
 "metadata": {
  "kernelspec": {
   "display_name": "Python 3",
   "language": "python",
   "name": "python3"
  },
  "language_info": {
   "codemirror_mode": {
    "name": "ipython",
    "version": 3
   },
   "file_extension": ".py",
   "mimetype": "text/x-python",
   "name": "python",
   "nbconvert_exporter": "python",
   "pygments_lexer": "ipython3",
   "version": "3.7.4"
  }
 },
 "nbformat": 4,
 "nbformat_minor": 2
}
